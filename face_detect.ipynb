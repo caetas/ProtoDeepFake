{
 "cells": [
  {
   "cell_type": "code",
   "execution_count": 2,
   "metadata": {},
   "outputs": [],
   "source": [
    "import cv2\n",
    "import numpy as np\n",
    "import os\n",
    "from matplotlib import pyplot as plt"
   ]
  },
  {
   "cell_type": "code",
   "execution_count": 5,
   "metadata": {},
   "outputs": [
    {
     "name": "stdout",
     "output_type": "stream",
     "text": [
      "['trump1.mp4', 'trump2.mp4', 'trump3.mp4', 'trump4.mp4']\n"
     ]
    }
   ],
   "source": [
    "dir = 'trump'\n",
    "list_i = os.listdir(dir)\n",
    "print(list_i)\n",
    "final_dir = dir + '_faces'"
   ]
  },
  {
   "cell_type": "code",
   "execution_count": 6,
   "metadata": {},
   "outputs": [
    {
     "name": "stdout",
     "output_type": "stream",
     "text": [
      "trump1.mp4\n",
      "trump2.mp4\n",
      "trump3.mp4\n",
      "trump4.mp4\n"
     ]
    }
   ],
   "source": [
    "# Load the cascade\n",
    "face_cascade = cv2.CascadeClassifier(cv2.data.haarcascades + 'haarcascade_frontalface_default.xml')\n",
    "j = 0\n",
    "# Read the input image\n",
    "for i in list_i:\n",
    "    print(i)\n",
    "    cap = cv2.VideoCapture(os.path.join(dir,i))\n",
    "    ret, img = cap.read()\n",
    "    while(ret):\n",
    "        # Convert into grayscale\n",
    "        gray = cv2.cvtColor(img, cv2.COLOR_BGR2GRAY)\n",
    "        # Detect faces\n",
    "        faces = face_cascade.detectMultiScale(gray, 1.1, 4)\n",
    "        # Draw rectangle around the faces\n",
    "        for (x, y, w, h) in faces:\n",
    "            if w>200 and h>200:\n",
    "                #cv2.rectangle(img, (x, y), (x+w, y+h), (255, 0, 0), 2)\n",
    "                rect = img[y-20:y+h+20,x-20:x+w+20,:]\n",
    "                #rect = cv2.cvtColor(rect, cv2.COLOR_BGR2RGB)\n",
    "                rect = cv2.resize(rect,[256,256])\n",
    "                cv2.imwrite(os.path.join(final_dir,str(j)+'.png'),rect)\n",
    "                j+=1\n",
    "        ret, img = cap.read()"
   ]
  }
 ],
 "metadata": {
  "interpreter": {
   "hash": "74370f5c003b891a364185c017133575b60922bef3ec5886167c351f100e6443"
  },
  "kernelspec": {
   "display_name": "Python 3.9.7 64-bit",
   "language": "python",
   "name": "python3"
  },
  "language_info": {
   "codemirror_mode": {
    "name": "ipython",
    "version": 3
   },
   "file_extension": ".py",
   "mimetype": "text/x-python",
   "name": "python",
   "nbconvert_exporter": "python",
   "pygments_lexer": "ipython3",
   "version": "3.9.7"
  },
  "orig_nbformat": 4
 },
 "nbformat": 4,
 "nbformat_minor": 2
}
